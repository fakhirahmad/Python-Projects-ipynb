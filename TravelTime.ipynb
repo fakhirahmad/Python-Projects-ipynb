{
  "cells": [
    {
      "cell_type": "code",
      "execution_count": 38,
      "metadata": {
        "id": "eDt3QRJE0xC7"
      },
      "outputs": [],
      "source": [
        "# Travel time for deliveries is dependent on distance travelled in miles, number of deliveries made in a trip and the gas price\n",
        "#Following is a model for analysis of the collected data:\n"
      ]
    },
    {
      "cell_type": "code",
      "execution_count": 39,
      "metadata": {
        "id": "chxV8a7gUeR0"
      },
      "outputs": [],
      "source": [
        "import pandas\n",
        "import math\n",
        "import matplotlib.pyplot as plt\n",
        "from sklearn.linear_model import LinearRegression\n",
        "import statsmodels.api as sm\n",
        "from statsmodels.stats.outliers_influence import variance_inflation_factor"
      ]
    },
    {
      "cell_type": "code",
      "execution_count": 40,
      "metadata": {
        "colab": {
          "base_uri": "https://localhost:8080/",
          "height": 73,
          "resources": {
            "http://localhost:8080/nbextensions/google.colab/files.js": {
              "data": "Ly8gQ29weXJpZ2h0IDIwMTcgR29vZ2xlIExMQwovLwovLyBMaWNlbnNlZCB1bmRlciB0aGUgQXBhY2hlIExpY2Vuc2UsIFZlcnNpb24gMi4wICh0aGUgIkxpY2Vuc2UiKTsKLy8geW91IG1heSBub3QgdXNlIHRoaXMgZmlsZSBleGNlcHQgaW4gY29tcGxpYW5jZSB3aXRoIHRoZSBMaWNlbnNlLgovLyBZb3UgbWF5IG9idGFpbiBhIGNvcHkgb2YgdGhlIExpY2Vuc2UgYXQKLy8KLy8gICAgICBodHRwOi8vd3d3LmFwYWNoZS5vcmcvbGljZW5zZXMvTElDRU5TRS0yLjAKLy8KLy8gVW5sZXNzIHJlcXVpcmVkIGJ5IGFwcGxpY2FibGUgbGF3IG9yIGFncmVlZCB0byBpbiB3cml0aW5nLCBzb2Z0d2FyZQovLyBkaXN0cmlidXRlZCB1bmRlciB0aGUgTGljZW5zZSBpcyBkaXN0cmlidXRlZCBvbiBhbiAiQVMgSVMiIEJBU0lTLAovLyBXSVRIT1VUIFdBUlJBTlRJRVMgT1IgQ09ORElUSU9OUyBPRiBBTlkgS0lORCwgZWl0aGVyIGV4cHJlc3Mgb3IgaW1wbGllZC4KLy8gU2VlIHRoZSBMaWNlbnNlIGZvciB0aGUgc3BlY2lmaWMgbGFuZ3VhZ2UgZ292ZXJuaW5nIHBlcm1pc3Npb25zIGFuZAovLyBsaW1pdGF0aW9ucyB1bmRlciB0aGUgTGljZW5zZS4KCi8qKgogKiBAZmlsZW92ZXJ2aWV3IEhlbHBlcnMgZm9yIGdvb2dsZS5jb2xhYiBQeXRob24gbW9kdWxlLgogKi8KKGZ1bmN0aW9uKHNjb3BlKSB7CmZ1bmN0aW9uIHNwYW4odGV4dCwgc3R5bGVBdHRyaWJ1dGVzID0ge30pIHsKICBjb25zdCBlbGVtZW50ID0gZG9jdW1lbnQuY3JlYXRlRWxlbWVudCgnc3BhbicpOwogIGVsZW1lbnQudGV4dENvbnRlbnQgPSB0ZXh0OwogIGZvciAoY29uc3Qga2V5IG9mIE9iamVjdC5rZXlzKHN0eWxlQXR0cmlidXRlcykpIHsKICAgIGVsZW1lbnQuc3R5bGVba2V5XSA9IHN0eWxlQXR0cmlidXRlc1trZXldOwogIH0KICByZXR1cm4gZWxlbWVudDsKfQoKLy8gTWF4IG51bWJlciBvZiBieXRlcyB3aGljaCB3aWxsIGJlIHVwbG9hZGVkIGF0IGEgdGltZS4KY29uc3QgTUFYX1BBWUxPQURfU0laRSA9IDEwMCAqIDEwMjQ7CgpmdW5jdGlvbiBfdXBsb2FkRmlsZXMoaW5wdXRJZCwgb3V0cHV0SWQpIHsKICBjb25zdCBzdGVwcyA9IHVwbG9hZEZpbGVzU3RlcChpbnB1dElkLCBvdXRwdXRJZCk7CiAgY29uc3Qgb3V0cHV0RWxlbWVudCA9IGRvY3VtZW50LmdldEVsZW1lbnRCeUlkKG91dHB1dElkKTsKICAvLyBDYWNoZSBzdGVwcyBvbiB0aGUgb3V0cHV0RWxlbWVudCB0byBtYWtlIGl0IGF2YWlsYWJsZSBmb3IgdGhlIG5leHQgY2FsbAogIC8vIHRvIHVwbG9hZEZpbGVzQ29udGludWUgZnJvbSBQeXRob24uCiAgb3V0cHV0RWxlbWVudC5zdGVwcyA9IHN0ZXBzOwoKICByZXR1cm4gX3VwbG9hZEZpbGVzQ29udGludWUob3V0cHV0SWQpOwp9CgovLyBUaGlzIGlzIHJvdWdobHkgYW4gYXN5bmMgZ2VuZXJhdG9yIChub3Qgc3VwcG9ydGVkIGluIHRoZSBicm93c2VyIHlldCksCi8vIHdoZXJlIHRoZXJlIGFyZSBtdWx0aXBsZSBhc3luY2hyb25vdXMgc3RlcHMgYW5kIHRoZSBQeXRob24gc2lkZSBpcyBnb2luZwovLyB0byBwb2xsIGZvciBjb21wbGV0aW9uIG9mIGVhY2ggc3RlcC4KLy8gVGhpcyB1c2VzIGEgUHJvbWlzZSB0byBibG9jayB0aGUgcHl0aG9uIHNpZGUgb24gY29tcGxldGlvbiBvZiBlYWNoIHN0ZXAsCi8vIHRoZW4gcGFzc2VzIHRoZSByZXN1bHQgb2YgdGhlIHByZXZpb3VzIHN0ZXAgYXMgdGhlIGlucHV0IHRvIHRoZSBuZXh0IHN0ZXAuCmZ1bmN0aW9uIF91cGxvYWRGaWxlc0NvbnRpbnVlKG91dHB1dElkKSB7CiAgY29uc3Qgb3V0cHV0RWxlbWVudCA9IGRvY3VtZW50LmdldEVsZW1lbnRCeUlkKG91dHB1dElkKTsKICBjb25zdCBzdGVwcyA9IG91dHB1dEVsZW1lbnQuc3RlcHM7CgogIGNvbnN0IG5leHQgPSBzdGVwcy5uZXh0KG91dHB1dEVsZW1lbnQubGFzdFByb21pc2VWYWx1ZSk7CiAgcmV0dXJuIFByb21pc2UucmVzb2x2ZShuZXh0LnZhbHVlLnByb21pc2UpLnRoZW4oKHZhbHVlKSA9PiB7CiAgICAvLyBDYWNoZSB0aGUgbGFzdCBwcm9taXNlIHZhbHVlIHRvIG1ha2UgaXQgYXZhaWxhYmxlIHRvIHRoZSBuZXh0CiAgICAvLyBzdGVwIG9mIHRoZSBnZW5lcmF0b3IuCiAgICBvdXRwdXRFbGVtZW50Lmxhc3RQcm9taXNlVmFsdWUgPSB2YWx1ZTsKICAgIHJldHVybiBuZXh0LnZhbHVlLnJlc3BvbnNlOwogIH0pOwp9CgovKioKICogR2VuZXJhdG9yIGZ1bmN0aW9uIHdoaWNoIGlzIGNhbGxlZCBiZXR3ZWVuIGVhY2ggYXN5bmMgc3RlcCBvZiB0aGUgdXBsb2FkCiAqIHByb2Nlc3MuCiAqIEBwYXJhbSB7c3RyaW5nfSBpbnB1dElkIEVsZW1lbnQgSUQgb2YgdGhlIGlucHV0IGZpbGUgcGlja2VyIGVsZW1lbnQuCiAqIEBwYXJhbSB7c3RyaW5nfSBvdXRwdXRJZCBFbGVtZW50IElEIG9mIHRoZSBvdXRwdXQgZGlzcGxheS4KICogQHJldHVybiB7IUl0ZXJhYmxlPCFPYmplY3Q+fSBJdGVyYWJsZSBvZiBuZXh0IHN0ZXBzLgogKi8KZnVuY3Rpb24qIHVwbG9hZEZpbGVzU3RlcChpbnB1dElkLCBvdXRwdXRJZCkgewogIGNvbnN0IGlucHV0RWxlbWVudCA9IGRvY3VtZW50LmdldEVsZW1lbnRCeUlkKGlucHV0SWQpOwogIGlucHV0RWxlbWVudC5kaXNhYmxlZCA9IGZhbHNlOwoKICBjb25zdCBvdXRwdXRFbGVtZW50ID0gZG9jdW1lbnQuZ2V0RWxlbWVudEJ5SWQob3V0cHV0SWQpOwogIG91dHB1dEVsZW1lbnQuaW5uZXJIVE1MID0gJyc7CgogIGNvbnN0IHBpY2tlZFByb21pc2UgPSBuZXcgUHJvbWlzZSgocmVzb2x2ZSkgPT4gewogICAgaW5wdXRFbGVtZW50LmFkZEV2ZW50TGlzdGVuZXIoJ2NoYW5nZScsIChlKSA9PiB7CiAgICAgIHJlc29sdmUoZS50YXJnZXQuZmlsZXMpOwogICAgfSk7CiAgfSk7CgogIGNvbnN0IGNhbmNlbCA9IGRvY3VtZW50LmNyZWF0ZUVsZW1lbnQoJ2J1dHRvbicpOwogIGlucHV0RWxlbWVudC5wYXJlbnRFbGVtZW50LmFwcGVuZENoaWxkKGNhbmNlbCk7CiAgY2FuY2VsLnRleHRDb250ZW50ID0gJ0NhbmNlbCB1cGxvYWQnOwogIGNvbnN0IGNhbmNlbFByb21pc2UgPSBuZXcgUHJvbWlzZSgocmVzb2x2ZSkgPT4gewogICAgY2FuY2VsLm9uY2xpY2sgPSAoKSA9PiB7CiAgICAgIHJlc29sdmUobnVsbCk7CiAgICB9OwogIH0pOwoKICAvLyBXYWl0IGZvciB0aGUgdXNlciB0byBwaWNrIHRoZSBmaWxlcy4KICBjb25zdCBmaWxlcyA9IHlpZWxkIHsKICAgIHByb21pc2U6IFByb21pc2UucmFjZShbcGlja2VkUHJvbWlzZSwgY2FuY2VsUHJvbWlzZV0pLAogICAgcmVzcG9uc2U6IHsKICAgICAgYWN0aW9uOiAnc3RhcnRpbmcnLAogICAgfQogIH07CgogIGNhbmNlbC5yZW1vdmUoKTsKCiAgLy8gRGlzYWJsZSB0aGUgaW5wdXQgZWxlbWVudCBzaW5jZSBmdXJ0aGVyIHBpY2tzIGFyZSBub3QgYWxsb3dlZC4KICBpbnB1dEVsZW1lbnQuZGlzYWJsZWQgPSB0cnVlOwoKICBpZiAoIWZpbGVzKSB7CiAgICByZXR1cm4gewogICAgICByZXNwb25zZTogewogICAgICAgIGFjdGlvbjogJ2NvbXBsZXRlJywKICAgICAgfQogICAgfTsKICB9CgogIGZvciAoY29uc3QgZmlsZSBvZiBmaWxlcykgewogICAgY29uc3QgbGkgPSBkb2N1bWVudC5jcmVhdGVFbGVtZW50KCdsaScpOwogICAgbGkuYXBwZW5kKHNwYW4oZmlsZS5uYW1lLCB7Zm9udFdlaWdodDogJ2JvbGQnfSkpOwogICAgbGkuYXBwZW5kKHNwYW4oCiAgICAgICAgYCgke2ZpbGUudHlwZSB8fCAnbi9hJ30pIC0gJHtmaWxlLnNpemV9IGJ5dGVzLCBgICsKICAgICAgICBgbGFzdCBtb2RpZmllZDogJHsKICAgICAgICAgICAgZmlsZS5sYXN0TW9kaWZpZWREYXRlID8gZmlsZS5sYXN0TW9kaWZpZWREYXRlLnRvTG9jYWxlRGF0ZVN0cmluZygpIDoKICAgICAgICAgICAgICAgICAgICAgICAgICAgICAgICAgICAgJ24vYSd9IC0gYCkpOwogICAgY29uc3QgcGVyY2VudCA9IHNwYW4oJzAlIGRvbmUnKTsKICAgIGxpLmFwcGVuZENoaWxkKHBlcmNlbnQpOwoKICAgIG91dHB1dEVsZW1lbnQuYXBwZW5kQ2hpbGQobGkpOwoKICAgIGNvbnN0IGZpbGVEYXRhUHJvbWlzZSA9IG5ldyBQcm9taXNlKChyZXNvbHZlKSA9PiB7CiAgICAgIGNvbnN0IHJlYWRlciA9IG5ldyBGaWxlUmVhZGVyKCk7CiAgICAgIHJlYWRlci5vbmxvYWQgPSAoZSkgPT4gewogICAgICAgIHJlc29sdmUoZS50YXJnZXQucmVzdWx0KTsKICAgICAgfTsKICAgICAgcmVhZGVyLnJlYWRBc0FycmF5QnVmZmVyKGZpbGUpOwogICAgfSk7CiAgICAvLyBXYWl0IGZvciB0aGUgZGF0YSB0byBiZSByZWFkeS4KICAgIGxldCBmaWxlRGF0YSA9IHlpZWxkIHsKICAgICAgcHJvbWlzZTogZmlsZURhdGFQcm9taXNlLAogICAgICByZXNwb25zZTogewogICAgICAgIGFjdGlvbjogJ2NvbnRpbnVlJywKICAgICAgfQogICAgfTsKCiAgICAvLyBVc2UgYSBjaHVua2VkIHNlbmRpbmcgdG8gYXZvaWQgbWVzc2FnZSBzaXplIGxpbWl0cy4gU2VlIGIvNjIxMTU2NjAuCiAgICBsZXQgcG9zaXRpb24gPSAwOwogICAgZG8gewogICAgICBjb25zdCBsZW5ndGggPSBNYXRoLm1pbihmaWxlRGF0YS5ieXRlTGVuZ3RoIC0gcG9zaXRpb24sIE1BWF9QQVlMT0FEX1NJWkUpOwogICAgICBjb25zdCBjaHVuayA9IG5ldyBVaW50OEFycmF5KGZpbGVEYXRhLCBwb3NpdGlvbiwgbGVuZ3RoKTsKICAgICAgcG9zaXRpb24gKz0gbGVuZ3RoOwoKICAgICAgY29uc3QgYmFzZTY0ID0gYnRvYShTdHJpbmcuZnJvbUNoYXJDb2RlLmFwcGx5KG51bGwsIGNodW5rKSk7CiAgICAgIHlpZWxkIHsKICAgICAgICByZXNwb25zZTogewogICAgICAgICAgYWN0aW9uOiAnYXBwZW5kJywKICAgICAgICAgIGZpbGU6IGZpbGUubmFtZSwKICAgICAgICAgIGRhdGE6IGJhc2U2NCwKICAgICAgICB9LAogICAgICB9OwoKICAgICAgbGV0IHBlcmNlbnREb25lID0gZmlsZURhdGEuYnl0ZUxlbmd0aCA9PT0gMCA/CiAgICAgICAgICAxMDAgOgogICAgICAgICAgTWF0aC5yb3VuZCgocG9zaXRpb24gLyBmaWxlRGF0YS5ieXRlTGVuZ3RoKSAqIDEwMCk7CiAgICAgIHBlcmNlbnQudGV4dENvbnRlbnQgPSBgJHtwZXJjZW50RG9uZX0lIGRvbmVgOwoKICAgIH0gd2hpbGUgKHBvc2l0aW9uIDwgZmlsZURhdGEuYnl0ZUxlbmd0aCk7CiAgfQoKICAvLyBBbGwgZG9uZS4KICB5aWVsZCB7CiAgICByZXNwb25zZTogewogICAgICBhY3Rpb246ICdjb21wbGV0ZScsCiAgICB9CiAgfTsKfQoKc2NvcGUuZ29vZ2xlID0gc2NvcGUuZ29vZ2xlIHx8IHt9OwpzY29wZS5nb29nbGUuY29sYWIgPSBzY29wZS5nb29nbGUuY29sYWIgfHwge307CnNjb3BlLmdvb2dsZS5jb2xhYi5fZmlsZXMgPSB7CiAgX3VwbG9hZEZpbGVzLAogIF91cGxvYWRGaWxlc0NvbnRpbnVlLAp9Owp9KShzZWxmKTsK",
              "headers": [
                [
                  "content-type",
                  "application/javascript"
                ]
              ],
              "ok": true,
              "status": 200,
              "status_text": ""
            }
          }
        },
        "id": "AGjRPC9t0zmA",
        "outputId": "178078c1-b096-43e7-aec7-e2c4e273076a"
      },
      "outputs": [],
      "source": [
        "\n",
        "\n",
        "df = pandas.read_csv('D:\\DS\\Data\\TravelTime.csv')"
      ]
    },
    {
      "cell_type": "code",
      "execution_count": 41,
      "metadata": {
        "colab": {
          "base_uri": "https://localhost:8080/",
          "height": 363
        },
        "id": "Arxzvp2L2H8c",
        "outputId": "98ca96ac-836c-41a5-ee59-aad93204e925"
      },
      "outputs": [
        {
          "data": {
            "text/html": [
              "<div>\n",
              "<style scoped>\n",
              "    .dataframe tbody tr th:only-of-type {\n",
              "        vertical-align: middle;\n",
              "    }\n",
              "\n",
              "    .dataframe tbody tr th {\n",
              "        vertical-align: top;\n",
              "    }\n",
              "\n",
              "    .dataframe thead th {\n",
              "        text-align: right;\n",
              "    }\n",
              "</style>\n",
              "<table border=\"1\" class=\"dataframe\">\n",
              "  <thead>\n",
              "    <tr style=\"text-align: right;\">\n",
              "      <th></th>\n",
              "      <th>miles</th>\n",
              "      <th>deliveries</th>\n",
              "      <th>gasPrice</th>\n",
              "      <th>traveltime</th>\n",
              "    </tr>\n",
              "  </thead>\n",
              "  <tbody>\n",
              "    <tr>\n",
              "      <th>0</th>\n",
              "      <td>89</td>\n",
              "      <td>4</td>\n",
              "      <td>3.84</td>\n",
              "      <td>7.0</td>\n",
              "    </tr>\n",
              "    <tr>\n",
              "      <th>1</th>\n",
              "      <td>66</td>\n",
              "      <td>1</td>\n",
              "      <td>3.19</td>\n",
              "      <td>5.4</td>\n",
              "    </tr>\n",
              "    <tr>\n",
              "      <th>2</th>\n",
              "      <td>78</td>\n",
              "      <td>3</td>\n",
              "      <td>3.78</td>\n",
              "      <td>6.6</td>\n",
              "    </tr>\n",
              "    <tr>\n",
              "      <th>3</th>\n",
              "      <td>111</td>\n",
              "      <td>6</td>\n",
              "      <td>3.89</td>\n",
              "      <td>7.4</td>\n",
              "    </tr>\n",
              "    <tr>\n",
              "      <th>4</th>\n",
              "      <td>44</td>\n",
              "      <td>1</td>\n",
              "      <td>3.57</td>\n",
              "      <td>4.8</td>\n",
              "    </tr>\n",
              "    <tr>\n",
              "      <th>5</th>\n",
              "      <td>77</td>\n",
              "      <td>3</td>\n",
              "      <td>3.57</td>\n",
              "      <td>6.4</td>\n",
              "    </tr>\n",
              "    <tr>\n",
              "      <th>6</th>\n",
              "      <td>80</td>\n",
              "      <td>3</td>\n",
              "      <td>3.03</td>\n",
              "      <td>7.0</td>\n",
              "    </tr>\n",
              "    <tr>\n",
              "      <th>7</th>\n",
              "      <td>66</td>\n",
              "      <td>2</td>\n",
              "      <td>3.51</td>\n",
              "      <td>5.6</td>\n",
              "    </tr>\n",
              "    <tr>\n",
              "      <th>8</th>\n",
              "      <td>109</td>\n",
              "      <td>5</td>\n",
              "      <td>3.54</td>\n",
              "      <td>7.3</td>\n",
              "    </tr>\n",
              "    <tr>\n",
              "      <th>9</th>\n",
              "      <td>76</td>\n",
              "      <td>3</td>\n",
              "      <td>3.25</td>\n",
              "      <td>6.4</td>\n",
              "    </tr>\n",
              "  </tbody>\n",
              "</table>\n",
              "</div>"
            ],
            "text/plain": [
              "   miles  deliveries  gasPrice  traveltime\n",
              "0     89           4      3.84         7.0\n",
              "1     66           1      3.19         5.4\n",
              "2     78           3      3.78         6.6\n",
              "3    111           6      3.89         7.4\n",
              "4     44           1      3.57         4.8\n",
              "5     77           3      3.57         6.4\n",
              "6     80           3      3.03         7.0\n",
              "7     66           2      3.51         5.6\n",
              "8    109           5      3.54         7.3\n",
              "9     76           3      3.25         6.4"
            ]
          },
          "execution_count": 41,
          "metadata": {},
          "output_type": "execute_result"
        }
      ],
      "source": [
        "\n",
        "df"
      ]
    },
    {
      "cell_type": "code",
      "execution_count": 42,
      "metadata": {
        "id": "CZFwmOcQVWzo"
      },
      "outputs": [],
      "source": [
        "'''\n",
        "Dependent variable = TravelTime\n",
        "Independent variables:\n",
        "    miles\n",
        "    deliveries\n",
        "    gasPrice\n",
        "\n",
        "\n",
        "\n",
        "\n",
        "\n",
        "The following independent variables are compared with the dependent variable:\n",
        "\n",
        "TravelTime vs miles\n",
        "TravelTime vs deliveries\n",
        "TravelTime vs gasPrice\n",
        "\n",
        "For multicolinearity the following independent variables are considered:\n",
        "miles vs deliveries\n",
        "miles vs gasPrice\n",
        "deliveries vs gasPrice\n",
        "\n",
        "Dependent variable vs multiple independent variables\n",
        "TravelTime vs (deliveries, gasPrice)\n",
        "TravelTime vs (miles, gasPrice)\n",
        "TravelTime vs (miles, deliveries)\n",
        "TravelTime vs (miles, deliveries, gasPrice)\n",
        "\n",
        "'''\n",
        "\n",
        "\n",
        "\n",
        "\n",
        "\n",
        "\n",
        "\n",
        "\n",
        "\n",
        "\n",
        "\n"
      ]
    },
    {
      "cell_type": "code",
      "execution_count": 43,
      "metadata": {
        "colab": {
          "base_uri": "https://localhost:8080/",
          "height": 330
        },
        "id": "k8dwcmRNoDuc",
        "outputId": "0d693f6b-548e-453c-8a40-f04c6c6bbbbf"
      },
      "outputs": [
        {
          "data": {
            "image/png": "[encoded data removed]",
            "text/plain": [
              "<Figure size 432x288 with 1 Axes>"
            ]
          },
          "metadata": {
            "needs_background": "light"
          },
          "output_type": "display_data"
        },
        {
          "name": "stdout",
          "output_type": "stream",
          "text": [
            "co-efficient [0.04025678]\n",
            "constant 3.185560248999555\n"
          ]
        }
      ],
      "source": [
        "# TravelTime vs miles\n",
        "\n",
        "X = df[['miles']]\n",
        "y = df['traveltime']\n",
        "\n",
        "model = LinearRegression().fit(X, y)\n",
        "\n",
        "plt.scatter(X, y)\n",
        "plt.plot(X, model.predict(X))\n",
        "plt.title('TravelTime Project')\n",
        "plt.xlabel('Miles')\n",
        "plt.ylabel('TravelTime')\n",
        "plt.show()\n",
        "\n",
        "print('co-efficient', model.coef_)\n",
        "print ('constant', model.intercept_)\n",
        "\n",
        "\n",
        "\n"
      ]
    },
    {
      "cell_type": "code",
      "execution_count": 44,
      "metadata": {
        "colab": {
          "base_uri": "https://localhost:8080/",
          "height": 0
        },
        "id": "I7xs5ZedqSfL",
        "outputId": "bdeb34eb-f104-485a-cad8-f8171b858a51"
      },
      "outputs": [
        {
          "name": "stdout",
          "output_type": "stream",
          "text": [
            "                            OLS Regression Results                            \n",
            "==============================================================================\n",
            "Dep. Variable:             traveltime   R-squared:                       0.862\n",
            "Model:                            OLS   Adj. R-squared:                  0.844\n",
            "Method:                 Least Squares   F-statistic:                     49.77\n",
            "Date:                Sat, 16 Apr 2022   Prob (F-statistic):           0.000107\n",
            "Time:                        12:56:04   Log-Likelihood:                -2.3532\n",
            "No. Observations:                  10   AIC:                             8.706\n",
            "Df Residuals:                       8   BIC:                             9.312\n",
            "Df Model:                           1                                         \n",
            "Covariance Type:            nonrobust                                         \n",
            "==============================================================================\n",
            "                 coef    std err          t      P>|t|      [0.025      0.975]\n",
            "------------------------------------------------------------------------------\n",
            "const          3.1856      0.467      6.822      0.000       2.109       4.262\n",
            "miles          0.0403      0.006      7.055      0.000       0.027       0.053\n",
            "==============================================================================\n",
            "Omnibus:                        0.542   Durbin-Watson:                   2.608\n",
            "Prob(Omnibus):                  0.763   Jarque-Bera (JB):                0.554\n",
            "Skew:                           0.370   Prob(JB):                        0.758\n",
            "Kurtosis:                       2.115   Cond. No.                         353.\n",
            "==============================================================================\n",
            "\n",
            "Notes:\n",
            "[1] Standard Errors assume that the covariance matrix of the errors is correctly specified.\n"
          ]
        },
        {
          "name": "stderr",
          "output_type": "stream",
          "text": [
            "C:\\Users\\fakhi\\AppData\\Local\\Programs\\Python\\Python310\\lib\\site-packages\\scipy\\stats\\_stats_py.py:1477: UserWarning: kurtosistest only valid for n>=20 ... continuing anyway, n=10\n",
            "  warnings.warn(\"kurtosistest only valid for n>=20 ... continuing \"\n"
          ]
        }
      ],
      "source": [
        "# TravelTime vs miles\n",
        "\n",
        "X = sm.add_constant(X)\n",
        "res = sm.OLS(y,X).fit()\n",
        "print(res.summary())\n",
        "\n"
      ]
    },
    {
      "cell_type": "code",
      "execution_count": 45,
      "metadata": {
        "colab": {
          "base_uri": "https://localhost:8080/",
          "height": 0
        },
        "id": "lOJ3e0gQn3zy",
        "outputId": "d610ea4d-d40e-4274-ce56-8b8bf35eb00e"
      },
      "outputs": [
        {
          "name": "stdout",
          "output_type": "stream",
          "text": [
            "standard error of regression 0.3423088398195204\n"
          ]
        }
      ],
      "source": [
        "print('standard error of regression', math.sqrt(1-(res.rsquared_adj))*(df.std()['traveltime']))\n",
        "# print(variance_inflation_factor(res.resid,1))\n"
      ]
    },
    {
      "cell_type": "code",
      "execution_count": 46,
      "metadata": {
        "colab": {
          "base_uri": "https://localhost:8080/",
          "height": 295
        },
        "id": "ie2-f0Zy14qV",
        "outputId": "830d2deb-208a-4ee2-cbe0-fdda6943ded2"
      },
      "outputs": [
        {
          "data": {
            "image/png": "[encoded data removed]",
            "text/plain": [
              "<Figure size 432x288 with 1 Axes>"
            ]
          },
          "metadata": {
            "needs_background": "light"
          },
          "output_type": "display_data"
        }
      ],
      "source": [
        "# TravelTime vs deliveries\n",
        "\n",
        "X = df[['deliveries']]\n",
        "y = df['traveltime']\n",
        "\n",
        "model = LinearRegression().fit(X, y)\n",
        "\n",
        "plt.scatter(X, y)\n",
        "plt.plot(X, model.predict(X))\n",
        "plt.title('TravelTime Project')\n",
        "plt.xlabel('Deliveries')\n",
        "plt.ylabel('TravelTime')\n",
        "plt.show()\n",
        "\n",
        "\n"
      ]
    },
    {
      "cell_type": "code",
      "execution_count": 47,
      "metadata": {
        "colab": {
          "base_uri": "https://localhost:8080/",
          "height": 0
        },
        "id": "xnkgqd4XsHwt",
        "outputId": "27e615a8-4f3f-4bc3-8cf7-42731a9c8451"
      },
      "outputs": [
        {
          "name": "stdout",
          "output_type": "stream",
          "text": [
            "                            OLS Regression Results                            \n",
            "==============================================================================\n",
            "Dep. Variable:             traveltime   R-squared:                       0.840\n",
            "Model:                            OLS   Adj. R-squared:                  0.820\n",
            "Method:                 Least Squares   F-statistic:                     41.96\n",
            "Date:                Sat, 16 Apr 2022   Prob (F-statistic):           0.000193\n",
            "Time:                        12:56:05   Log-Likelihood:                -3.0794\n",
            "No. Observations:                  10   AIC:                             10.16\n",
            "Df Residuals:                       8   BIC:                             10.76\n",
            "Df Model:                           1                                         \n",
            "Covariance Type:            nonrobust                                         \n",
            "==============================================================================\n",
            "                 coef    std err          t      P>|t|      [0.025      0.975]\n",
            "------------------------------------------------------------------------------\n",
            "const          4.8454      0.265     18.261      0.000       4.234       5.457\n",
            "deliveries     0.4983      0.077      6.478      0.000       0.321       0.676\n",
            "==============================================================================\n",
            "Omnibus:                        0.391   Durbin-Watson:                   1.970\n",
            "Prob(Omnibus):                  0.822   Jarque-Bera (JB):                0.065\n",
            "Skew:                           0.147   Prob(JB):                        0.968\n",
            "Kurtosis:                       2.736   Cond. No.                         8.41\n",
            "==============================================================================\n",
            "\n",
            "Notes:\n",
            "[1] Standard Errors assume that the covariance matrix of the errors is correctly specified.\n"
          ]
        },
        {
          "name": "stderr",
          "output_type": "stream",
          "text": [
            "C:\\Users\\fakhi\\AppData\\Local\\Programs\\Python\\Python310\\lib\\site-packages\\scipy\\stats\\_stats_py.py:1477: UserWarning: kurtosistest only valid for n>=20 ... continuing anyway, n=10\n",
            "  warnings.warn(\"kurtosistest only valid for n>=20 ... continuing \"\n"
          ]
        }
      ],
      "source": [
        "# TravelTime vs Deliveries\n",
        "X = sm.add_constant(X)\n",
        "res = sm.OLS(y,X).fit()\n",
        "print(res.summary())"
      ]
    },
    {
      "cell_type": "code",
      "execution_count": 48,
      "metadata": {
        "colab": {
          "base_uri": "https://localhost:8080/",
          "height": 295
        },
        "id": "YZJ3sz_tr4wU",
        "outputId": "31d75e8e-c369-4255-b8c3-f9fe2e9eee30"
      },
      "outputs": [
        {
          "data": {
            "image/png": "[encoded data removed]",
            "text/plain": [
              "<Figure size 432x288 with 1 Axes>"
            ]
          },
          "metadata": {
            "needs_background": "light"
          },
          "output_type": "display_data"
        }
      ],
      "source": [
        "# TravelTime vs Gas Price\n",
        "\n",
        "X = df[['gasPrice']]\n",
        "y = df['traveltime']\n",
        "\n",
        "model = LinearRegression().fit(X, y)\n",
        "\n",
        "plt.scatter(X, y)\n",
        "#plt.plot(X, model.predict(X))\n",
        "plt.title('TravelTime Project')\n",
        "plt.xlabel('Gas Price')\n",
        "plt.ylabel('TravelTime')\n",
        "plt.show()"
      ]
    },
    {
      "cell_type": "code",
      "execution_count": 49,
      "metadata": {
        "colab": {
          "base_uri": "https://localhost:8080/",
          "height": 0
        },
        "id": "NW5G2InP2tUK",
        "outputId": "de46e260-87a5-4700-fc39-5927aa92577c"
      },
      "outputs": [
        {
          "name": "stdout",
          "output_type": "stream",
          "text": [
            "                            OLS Regression Results                            \n",
            "==============================================================================\n",
            "Dep. Variable:             traveltime   R-squared:                       0.071\n",
            "Model:                            OLS   Adj. R-squared:                 -0.045\n",
            "Method:                 Least Squares   F-statistic:                    0.6151\n",
            "Date:                Sat, 16 Apr 2022   Prob (F-statistic):              0.455\n",
            "Time:                        12:56:05   Log-Likelihood:                -11.868\n",
            "No. Observations:                  10   AIC:                             27.74\n",
            "Df Residuals:                       8   BIC:                             28.34\n",
            "Df Model:                           1                                         \n",
            "Covariance Type:            nonrobust                                         \n",
            "==============================================================================\n",
            "                 coef    std err          t      P>|t|      [0.025      0.975]\n",
            "------------------------------------------------------------------------------\n",
            "const          3.5365      3.649      0.969      0.361      -4.878      11.951\n",
            "gasPrice       0.8113      1.034      0.784      0.455      -1.574       3.197\n",
            "==============================================================================\n",
            "Omnibus:                        1.232   Durbin-Watson:                   2.823\n",
            "Prob(Omnibus):                  0.540   Jarque-Bera (JB):                0.765\n",
            "Skew:                          -0.619   Prob(JB):                        0.682\n",
            "Kurtosis:                       2.451   Cond. No.                         49.6\n",
            "==============================================================================\n",
            "\n",
            "Notes:\n",
            "[1] Standard Errors assume that the covariance matrix of the errors is correctly specified.\n"
          ]
        },
        {
          "name": "stderr",
          "output_type": "stream",
          "text": [
            "C:\\Users\\fakhi\\AppData\\Local\\Programs\\Python\\Python310\\lib\\site-packages\\scipy\\stats\\_stats_py.py:1477: UserWarning: kurtosistest only valid for n>=20 ... continuing anyway, n=10\n",
            "  warnings.warn(\"kurtosistest only valid for n>=20 ... continuing \"\n"
          ]
        }
      ],
      "source": [
        "# TravelTime vs Gas Price\n",
        "X = sm.add_constant(X)\n",
        "res = sm.OLS(y,X).fit()\n",
        "print(res.summary())"
      ]
    },
    {
      "cell_type": "code",
      "execution_count": 50,
      "metadata": {
        "colab": {
          "base_uri": "https://localhost:8080/",
          "height": 295
        },
        "id": "hX1Q9WJLvVIQ",
        "outputId": "5198bd58-9e28-4ad2-e87a-6ef67383f8ad"
      },
      "outputs": [
        {
          "data": {
            "image/png": "[encoded data removed]",
            "text/plain": [
              "<Figure size 432x288 with 1 Axes>"
            ]
          },
          "metadata": {
            "needs_background": "light"
          },
          "output_type": "display_data"
        }
      ],
      "source": [
        "# miles vs deliveries\n",
        "\n",
        "X = df[['miles']]\n",
        "y = df['deliveries']\n",
        "\n",
        "model = LinearRegression().fit(X, y)\n",
        "\n",
        "plt.scatter(X, y)\n",
        "plt.plot(X, model.predict(X))\n",
        "plt.title('TravelTime Project')\n",
        "plt.xlabel('Miles')\n",
        "plt.ylabel('Deliveries')\n",
        "plt.show()"
      ]
    },
    {
      "cell_type": "code",
      "execution_count": 51,
      "metadata": {
        "colab": {
          "base_uri": "https://localhost:8080/",
          "height": 295
        },
        "id": "TU-FPKELvXUb",
        "outputId": "4b6c3255-434f-452f-e02a-81ec34dfc269"
      },
      "outputs": [
        {
          "data": {
            "image/png": "[encoded data removed]",
            "text/plain": [
              "<Figure size 432x288 with 1 Axes>"
            ]
          },
          "metadata": {
            "needs_background": "light"
          },
          "output_type": "display_data"
        }
      ],
      "source": [
        "# miles vs Gas Price\n",
        "\n",
        "X = df[['miles']]\n",
        "y = df['gasPrice']\n",
        "\n",
        "model = LinearRegression().fit(X, y)\n",
        "\n",
        "plt.scatter(X, y)\n",
        "#plt.plot(X, model.predict(X))\n",
        "plt.title('TravelTime Project')\n",
        "plt.xlabel('Miles')\n",
        "plt.ylabel('Gas Price')\n",
        "plt.show()"
      ]
    },
    {
      "cell_type": "code",
      "execution_count": 52,
      "metadata": {
        "colab": {
          "base_uri": "https://localhost:8080/",
          "height": 295
        },
        "id": "lH3VDbo2v4XN",
        "outputId": "4597ad10-3cde-4d2f-ca4f-93ee23b88c59"
      },
      "outputs": [
        {
          "data": {
            "image/png": "[encoded data removed]",
            "text/plain": [
              "<Figure size 432x288 with 1 Axes>"
            ]
          },
          "metadata": {
            "needs_background": "light"
          },
          "output_type": "display_data"
        }
      ],
      "source": [
        "# deliveries vs Gas Price\n",
        "\n",
        "X = df[['deliveries']]\n",
        "y = df['gasPrice']\n",
        "\n",
        "model = LinearRegression().fit(X, y)\n",
        "\n",
        "plt.scatter(X, y)\n",
        "#plt.plot(X, model.predict(X))\n",
        "plt.title('TravelTime Project')\n",
        "plt.xlabel('Deliveries')\n",
        "plt.ylabel('Gas Price')\n",
        "plt.show()"
      ]
    },
    {
      "cell_type": "code",
      "execution_count": 53,
      "metadata": {
        "colab": {
          "base_uri": "https://localhost:8080/",
          "height": 0
        },
        "id": "Iv99hhdK7oEE",
        "outputId": "9ec6ea9a-5fd0-4761-8a71-c8f3a28ff58d"
      },
      "outputs": [
        {
          "name": "stdout",
          "output_type": "stream",
          "text": [
            "                            OLS Regression Results                            \n",
            "==============================================================================\n",
            "Dep. Variable:             traveltime   R-squared:                       0.888\n",
            "Model:                            OLS   Adj. R-squared:                  0.855\n",
            "Method:                 Least Squares   F-statistic:                     27.63\n",
            "Date:                Sat, 16 Apr 2022   Prob (F-statistic):           0.000476\n",
            "Time:                        12:56:06   Log-Likelihood:                -1.3104\n",
            "No. Observations:                  10   AIC:                             8.621\n",
            "Df Residuals:                       7   BIC:                             9.529\n",
            "Df Model:                           2                                         \n",
            "Covariance Type:            nonrobust                                         \n",
            "==============================================================================\n",
            "                 coef    std err          t      P>|t|      [0.025      0.975]\n",
            "------------------------------------------------------------------------------\n",
            "const          7.3243      1.458      5.025      0.002       3.878      10.771\n",
            "deliveries     0.5665      0.079      7.129      0.000       0.379       0.754\n",
            "gasPrice      -0.7650      0.444     -1.724      0.128      -1.814       0.284\n",
            "==============================================================================\n",
            "Omnibus:                        1.321   Durbin-Watson:                   2.054\n",
            "Prob(Omnibus):                  0.517   Jarque-Bera (JB):                0.811\n",
            "Skew:                           0.339   Prob(JB):                        0.667\n",
            "Kurtosis:                       1.781   Cond. No.                         71.9\n",
            "==============================================================================\n",
            "\n",
            "Notes:\n",
            "[1] Standard Errors assume that the covariance matrix of the errors is correctly specified.\n"
          ]
        },
        {
          "name": "stderr",
          "output_type": "stream",
          "text": [
            "C:\\Users\\fakhi\\AppData\\Local\\Programs\\Python\\Python310\\lib\\site-packages\\scipy\\stats\\_stats_py.py:1477: UserWarning: kurtosistest only valid for n>=20 ... continuing anyway, n=10\n",
            "  warnings.warn(\"kurtosistest only valid for n>=20 ... continuing \"\n"
          ]
        }
      ],
      "source": [
        "# TravelTime vs (deliveries, gasPrice)\n",
        "\n",
        "X = df[['deliveries', 'gasPrice']]\n",
        "y = df['traveltime']\n",
        "\n",
        "\n",
        "X = sm.add_constant(X)\n",
        "res = sm.OLS(y,X).fit()\n",
        "print(res.summary())"
      ]
    },
    {
      "cell_type": "code",
      "execution_count": 54,
      "metadata": {
        "colab": {
          "base_uri": "https://localhost:8080/",
          "height": 0
        },
        "id": "OlsspwMSIU4p",
        "outputId": "30f46fdc-4004-4063-a63c-20ff7b7278f7"
      },
      "outputs": [
        {
          "name": "stdout",
          "output_type": "stream",
          "text": [
            "                            OLS Regression Results                            \n",
            "==============================================================================\n",
            "Dep. Variable:             traveltime   R-squared:                       0.866\n",
            "Model:                            OLS   Adj. R-squared:                  0.828\n",
            "Method:                 Least Squares   F-statistic:                     22.63\n",
            "Date:                Sat, 16 Apr 2022   Prob (F-statistic):           0.000879\n",
            "Time:                        12:56:06   Log-Likelihood:                -2.1863\n",
            "No. Observations:                  10   AIC:                             10.37\n",
            "Df Residuals:                       7   BIC:                             11.28\n",
            "Df Model:                           2                                         \n",
            "Covariance Type:            nonrobust                                         \n",
            "==============================================================================\n",
            "                 coef    std err          t      P>|t|      [0.025      0.975]\n",
            "------------------------------------------------------------------------------\n",
            "const          3.8676      1.482      2.609      0.035       0.362       7.373\n",
            "miles          0.0414      0.006      6.445      0.000       0.026       0.057\n",
            "gasPrice      -0.2191      0.449     -0.488      0.641      -1.282       0.844\n",
            "==============================================================================\n",
            "Omnibus:                        0.731   Durbin-Watson:                   2.740\n",
            "Prob(Omnibus):                  0.694   Jarque-Bera (JB):                0.563\n",
            "Skew:                           0.025   Prob(JB):                        0.755\n",
            "Kurtosis:                       1.839   Cond. No.                     1.11e+03\n",
            "==============================================================================\n",
            "\n",
            "Notes:\n",
            "[1] Standard Errors assume that the covariance matrix of the errors is correctly specified.\n",
            "[2] The condition number is large, 1.11e+03. This might indicate that there are\n",
            "strong multicollinearity or other numerical problems.\n"
          ]
        },
        {
          "name": "stderr",
          "output_type": "stream",
          "text": [
            "C:\\Users\\fakhi\\AppData\\Local\\Programs\\Python\\Python310\\lib\\site-packages\\scipy\\stats\\_stats_py.py:1477: UserWarning: kurtosistest only valid for n>=20 ... continuing anyway, n=10\n",
            "  warnings.warn(\"kurtosistest only valid for n>=20 ... continuing \"\n"
          ]
        }
      ],
      "source": [
        "# TravelTime vs (miles, gasPrice)\n",
        "X = df[['miles', 'gasPrice']]\n",
        "y = df['traveltime']\n",
        "\n",
        "\n",
        "X = sm.add_constant(X)\n",
        "res = sm.OLS(y,X).fit()\n",
        "print(res.summary())"
      ]
    },
    {
      "cell_type": "code",
      "execution_count": 55,
      "metadata": {
        "colab": {
          "base_uri": "https://localhost:8080/",
          "height": 0
        },
        "id": "Jl_-_2zU8Adk",
        "outputId": "5c413c84-9a4b-4572-b2f0-97072abcac68"
      },
      "outputs": [
        {
          "name": "stderr",
          "output_type": "stream",
          "text": [
            "C:\\Users\\fakhi\\AppData\\Local\\Programs\\Python\\Python310\\lib\\site-packages\\scipy\\stats\\_stats_py.py:1477: UserWarning: kurtosistest only valid for n>=20 ... continuing anyway, n=10\n",
            "  warnings.warn(\"kurtosistest only valid for n>=20 ... continuing \"\n"
          ]
        },
        {
          "name": "stdout",
          "output_type": "stream",
          "text": [
            "                            OLS Regression Results                            \n",
            "==============================================================================\n",
            "Dep. Variable:             traveltime   R-squared:                       0.871\n",
            "Model:                            OLS   Adj. R-squared:                  0.835\n",
            "Method:                 Least Squares   F-statistic:                     23.72\n",
            "Date:                Sat, 16 Apr 2022   Prob (F-statistic):           0.000763\n",
            "Time:                        12:56:06   Log-Likelihood:                -1.9830\n",
            "No. Observations:                  10   AIC:                             9.966\n",
            "Df Residuals:                       7   BIC:                             10.87\n",
            "Df Model:                           2                                         \n",
            "Covariance Type:            nonrobust                                         \n",
            "==============================================================================\n",
            "                 coef    std err          t      P>|t|      [0.025      0.975]\n",
            "------------------------------------------------------------------------------\n",
            "const          3.7322      0.887      4.208      0.004       1.635       5.830\n",
            "miles          0.0262      0.020      1.310      0.232      -0.021       0.074\n",
            "deliveries     0.1840      0.251      0.733      0.487      -0.409       0.777\n",
            "==============================================================================\n",
            "Omnibus:                        1.340   Durbin-Watson:                   2.402\n",
            "Prob(Omnibus):                  0.512   Jarque-Bera (JB):                0.867\n",
            "Skew:                           0.654   Prob(JB):                        0.648\n",
            "Kurtosis:                       2.393   Cond. No.                         670.\n",
            "==============================================================================\n",
            "\n",
            "Notes:\n",
            "[1] Standard Errors assume that the covariance matrix of the errors is correctly specified.\n"
          ]
        }
      ],
      "source": [
        "# TravelTime vs (miles, deliveries)\n",
        "X = df[['miles', 'deliveries']]\n",
        "y = df['traveltime']\n",
        "\n",
        "\n",
        "X = sm.add_constant(X)\n",
        "res = sm.OLS(y,X).fit()\n",
        "print(res.summary())"
      ]
    },
    {
      "cell_type": "code",
      "execution_count": 56,
      "metadata": {},
      "outputs": [
        {
          "name": "stdout",
          "output_type": "stream",
          "text": [
            "      feature        VIF\n",
            "0       const  63.263365\n",
            "1       miles  11.593044\n",
            "2  deliveries  11.593044\n"
          ]
        }
      ],
      "source": [
        "# VIF dataframe\n",
        "vif_data = pandas.DataFrame()\n",
        "vif_data[\"feature\"] = X.columns\n",
        "  \n",
        "# calculating VIF for each feature\n",
        "vif_data[\"VIF\"] = [variance_inflation_factor(X.values, i)\n",
        "                          for i in range(len(X.columns))]\n",
        "  \n",
        "print(vif_data)"
      ]
    },
    {
      "cell_type": "code",
      "execution_count": 57,
      "metadata": {
        "colab": {
          "base_uri": "https://localhost:8080/",
          "height": 0
        },
        "id": "fJM0K3dK8TaR",
        "outputId": "eab5f1e1-3124-4fa6-b513-9e00837e2e48"
      },
      "outputs": [
        {
          "name": "stdout",
          "output_type": "stream",
          "text": [
            "                            OLS Regression Results                            \n",
            "==============================================================================\n",
            "Dep. Variable:             traveltime   R-squared:                       0.895\n",
            "Model:                            OLS   Adj. R-squared:                  0.842\n",
            "Method:                 Least Squares   F-statistic:                     16.99\n",
            "Date:                Sat, 16 Apr 2022   Prob (F-statistic):            0.00245\n",
            "Time:                        12:56:07   Log-Likelihood:               -0.98426\n",
            "No. Observations:                  10   AIC:                             9.969\n",
            "Df Residuals:                       6   BIC:                             11.18\n",
            "Df Model:                           3                                         \n",
            "Covariance Type:            nonrobust                                         \n",
            "==============================================================================\n",
            "                 coef    std err          t      P>|t|      [0.025      0.975]\n",
            "------------------------------------------------------------------------------\n",
            "const          6.2114      2.321      2.677      0.037       0.533      11.890\n",
            "miles          0.0141      0.022      0.636      0.548      -0.040       0.068\n",
            "deliveries     0.3832      0.300      1.277      0.249      -0.351       1.117\n",
            "gasPrice      -0.6066      0.527     -1.152      0.293      -1.895       0.682\n",
            "==============================================================================\n",
            "Omnibus:                        2.874   Durbin-Watson:                   2.406\n",
            "Prob(Omnibus):                  0.238   Jarque-Bera (JB):                1.204\n",
            "Skew:                           0.457   Prob(JB):                        0.548\n",
            "Kurtosis:                       1.567   Cond. No.                     1.79e+03\n",
            "==============================================================================\n",
            "\n",
            "Notes:\n",
            "[1] Standard Errors assume that the covariance matrix of the errors is correctly specified.\n",
            "[2] The condition number is large, 1.79e+03. This might indicate that there are\n",
            "strong multicollinearity or other numerical problems.\n"
          ]
        },
        {
          "name": "stderr",
          "output_type": "stream",
          "text": [
            "C:\\Users\\fakhi\\AppData\\Local\\Programs\\Python\\Python310\\lib\\site-packages\\scipy\\stats\\_stats_py.py:1477: UserWarning: kurtosistest only valid for n>=20 ... continuing anyway, n=10\n",
            "  warnings.warn(\"kurtosistest only valid for n>=20 ... continuing \"\n"
          ]
        }
      ],
      "source": [
        "\n",
        "# TravelTime vs (miles, deliveries, gasPrice)\n",
        "X = df[['miles', 'deliveries', 'gasPrice']]\n",
        "y = df['traveltime']\n",
        "\n",
        "\n",
        "X = sm.add_constant(X)\n",
        "res = sm.OLS(y,X).fit()\n",
        "print(res.summary())"
      ]
    },
    {
      "cell_type": "code",
      "execution_count": 58,
      "metadata": {},
      "outputs": [
        {
          "name": "stdout",
          "output_type": "stream",
          "text": [
            "      feature         VIF\n",
            "0       const  453.235497\n",
            "1       miles   14.936013\n",
            "2  deliveries   17.353065\n",
            "3    gasPrice    1.713803\n"
          ]
        }
      ],
      "source": [
        "# VIF dataframe\n",
        "vif_data = pandas.DataFrame()\n",
        "vif_data[\"feature\"] = X.columns\n",
        "  \n",
        "# calculating VIF for each feature\n",
        "vif_data[\"VIF\"] = [variance_inflation_factor(X.values, i)\n",
        "                          for i in range(len(X.columns))]\n",
        "  \n",
        "print(vif_data)"
      ]
    },
    {
      "cell_type": "code",
      "execution_count": 59,
      "metadata": {
        "colab": {
          "base_uri": "https://localhost:8080/",
          "height": 175
        },
        "id": "SoqufjuUaSu9",
        "outputId": "5b1efaaa-8e11-4508-f1c2-0f6655c8bf56"
      },
      "outputs": [
        {
          "data": {
            "text/html": [
              "<div>\n",
              "<style scoped>\n",
              "    .dataframe tbody tr th:only-of-type {\n",
              "        vertical-align: middle;\n",
              "    }\n",
              "\n",
              "    .dataframe tbody tr th {\n",
              "        vertical-align: top;\n",
              "    }\n",
              "\n",
              "    .dataframe thead th {\n",
              "        text-align: right;\n",
              "    }\n",
              "</style>\n",
              "<table border=\"1\" class=\"dataframe\">\n",
              "  <thead>\n",
              "    <tr style=\"text-align: right;\">\n",
              "      <th></th>\n",
              "      <th>miles</th>\n",
              "      <th>deliveries</th>\n",
              "      <th>gasPrice</th>\n",
              "      <th>traveltime</th>\n",
              "    </tr>\n",
              "  </thead>\n",
              "  <tbody>\n",
              "    <tr>\n",
              "      <th>miles</th>\n",
              "      <td>1.000000</td>\n",
              "      <td>0.955898</td>\n",
              "      <td>0.355796</td>\n",
              "      <td>0.928179</td>\n",
              "    </tr>\n",
              "    <tr>\n",
              "      <th>deliveries</th>\n",
              "      <td>0.955898</td>\n",
              "      <td>1.000000</td>\n",
              "      <td>0.498242</td>\n",
              "      <td>0.916443</td>\n",
              "    </tr>\n",
              "    <tr>\n",
              "      <th>gasPrice</th>\n",
              "      <td>0.355796</td>\n",
              "      <td>0.498242</td>\n",
              "      <td>1.000000</td>\n",
              "      <td>0.267212</td>\n",
              "    </tr>\n",
              "    <tr>\n",
              "      <th>traveltime</th>\n",
              "      <td>0.928179</td>\n",
              "      <td>0.916443</td>\n",
              "      <td>0.267212</td>\n",
              "      <td>1.000000</td>\n",
              "    </tr>\n",
              "  </tbody>\n",
              "</table>\n",
              "</div>"
            ],
            "text/plain": [
              "               miles  deliveries  gasPrice  traveltime\n",
              "miles       1.000000    0.955898  0.355796    0.928179\n",
              "deliveries  0.955898    1.000000  0.498242    0.916443\n",
              "gasPrice    0.355796    0.498242  1.000000    0.267212\n",
              "traveltime  0.928179    0.916443  0.267212    1.000000"
            ]
          },
          "execution_count": 59,
          "metadata": {},
          "output_type": "execute_result"
        }
      ],
      "source": [
        "df.corr()"
      ]
    },
    {
      "cell_type": "code",
      "execution_count": 60,
      "metadata": {
        "colab": {
          "base_uri": "https://localhost:8080/",
          "height": 300
        },
        "id": "dh_lw9ubOhx6",
        "outputId": "fddf30be-d460-4f0e-8a1b-60b108efc9ac"
      },
      "outputs": [
        {
          "data": {
            "text/html": [
              "<div>\n",
              "<style scoped>\n",
              "    .dataframe tbody tr th:only-of-type {\n",
              "        vertical-align: middle;\n",
              "    }\n",
              "\n",
              "    .dataframe tbody tr th {\n",
              "        vertical-align: top;\n",
              "    }\n",
              "\n",
              "    .dataframe thead th {\n",
              "        text-align: right;\n",
              "    }\n",
              "</style>\n",
              "<table border=\"1\" class=\"dataframe\">\n",
              "  <thead>\n",
              "    <tr style=\"text-align: right;\">\n",
              "      <th></th>\n",
              "      <th>F</th>\n",
              "      <th>P-value</th>\n",
              "      <th>std error</th>\n",
              "      <th>Rsq(Adj)</th>\n",
              "      <th>RSq(Pred)</th>\n",
              "      <th>miles</th>\n",
              "      <th>deliveries</th>\n",
              "      <th>gasPrice</th>\n",
              "      <th>VIF</th>\n",
              "    </tr>\n",
              "  </thead>\n",
              "  <tbody>\n",
              "    <tr>\n",
              "      <th>0</th>\n",
              "      <td>49.77</td>\n",
              "      <td>&lt; 0.001</td>\n",
              "      <td>0.34230</td>\n",
              "      <td>0.8442</td>\n",
              "      <td>0.7907</td>\n",
              "      <td>X</td>\n",
              "      <td>NaN</td>\n",
              "      <td>NaN</td>\n",
              "      <td>1.00</td>\n",
              "    </tr>\n",
              "    <tr>\n",
              "      <th>1</th>\n",
              "      <td>41.96</td>\n",
              "      <td>&lt; 0.001</td>\n",
              "      <td>0.36809</td>\n",
              "      <td>0.8199</td>\n",
              "      <td>0.7027</td>\n",
              "      <td>NaN</td>\n",
              "      <td>X</td>\n",
              "      <td>NaN</td>\n",
              "      <td>1.00</td>\n",
              "    </tr>\n",
              "    <tr>\n",
              "      <th>2</th>\n",
              "      <td>0.62</td>\n",
              "      <td>0.455</td>\n",
              "      <td>0.88640</td>\n",
              "      <td>0.0000</td>\n",
              "      <td>0.0000</td>\n",
              "      <td>NaN</td>\n",
              "      <td>NaN</td>\n",
              "      <td>X</td>\n",
              "      <td>1.00</td>\n",
              "    </tr>\n",
              "    <tr>\n",
              "      <th>3</th>\n",
              "      <td>23.72</td>\n",
              "      <td>0.001</td>\n",
              "      <td>0.35264</td>\n",
              "      <td>0.8347</td>\n",
              "      <td>0.5995</td>\n",
              "      <td>X</td>\n",
              "      <td>X</td>\n",
              "      <td>NaN</td>\n",
              "      <td>11.59</td>\n",
              "    </tr>\n",
              "    <tr>\n",
              "      <th>4</th>\n",
              "      <td>22.63</td>\n",
              "      <td>0.001</td>\n",
              "      <td>0.35988</td>\n",
              "      <td>0.8278</td>\n",
              "      <td>0.6811</td>\n",
              "      <td>X</td>\n",
              "      <td>NaN</td>\n",
              "      <td>X</td>\n",
              "      <td>1.14</td>\n",
              "    </tr>\n",
              "    <tr>\n",
              "      <th>5</th>\n",
              "      <td>27.63</td>\n",
              "      <td>&lt; 0.001</td>\n",
              "      <td>0.32970</td>\n",
              "      <td>0.8555</td>\n",
              "      <td>0.7176</td>\n",
              "      <td>NaN</td>\n",
              "      <td>X</td>\n",
              "      <td>X</td>\n",
              "      <td>1.33</td>\n",
              "    </tr>\n",
              "    <tr>\n",
              "      <th>6</th>\n",
              "      <td>16.99</td>\n",
              "      <td>0.002</td>\n",
              "      <td>0.34469</td>\n",
              "      <td>0.8420</td>\n",
              "      <td>0.5749</td>\n",
              "      <td>X</td>\n",
              "      <td>X</td>\n",
              "      <td>X</td>\n",
              "      <td>below</td>\n",
              "    </tr>\n",
              "    <tr>\n",
              "      <th>7</th>\n",
              "      <td>NaN</td>\n",
              "      <td>NaN</td>\n",
              "      <td>NaN</td>\n",
              "      <td>NaN</td>\n",
              "      <td>NaN</td>\n",
              "      <td>14.94</td>\n",
              "      <td>17.35</td>\n",
              "      <td>1.71</td>\n",
              "      <td>NaN</td>\n",
              "    </tr>\n",
              "  </tbody>\n",
              "</table>\n",
              "</div>"
            ],
            "text/plain": [
              "       F  P-value  std error  Rsq(Adj)  RSq(Pred)  miles deliveries gasPrice  \\\n",
              "0  49.77  < 0.001    0.34230    0.8442     0.7907      X        NaN      NaN   \n",
              "1  41.96  < 0.001    0.36809    0.8199     0.7027    NaN          X      NaN   \n",
              "2   0.62    0.455    0.88640    0.0000     0.0000    NaN        NaN        X   \n",
              "3  23.72    0.001    0.35264    0.8347     0.5995      X          X      NaN   \n",
              "4  22.63    0.001    0.35988    0.8278     0.6811      X        NaN        X   \n",
              "5  27.63  < 0.001    0.32970    0.8555     0.7176    NaN          X        X   \n",
              "6  16.99    0.002    0.34469    0.8420     0.5749      X          X        X   \n",
              "7    NaN      NaN        NaN       NaN        NaN  14.94      17.35     1.71   \n",
              "\n",
              "     VIF  \n",
              "0   1.00  \n",
              "1   1.00  \n",
              "2   1.00  \n",
              "3  11.59  \n",
              "4   1.14  \n",
              "5   1.33  \n",
              "6  below  \n",
              "7    NaN  "
            ]
          },
          "execution_count": 60,
          "metadata": {},
          "output_type": "execute_result"
        }
      ],
      "source": [
        "df2 = pandas.read_csv(\"D:\\DS\\Data\\Summary.csv\")\n",
        "df2"
      ]
    },
    {
      "cell_type": "code",
      "execution_count": 61,
      "metadata": {
        "id": "0btAoQL1auCN"
      },
      "outputs": [],
      "source": [
        "\n",
        "'''\n",
        "Conclusion\n",
        "\n",
        "In terms of dependent variable TimeTravel, the following have a high correlation:\n",
        "\n",
        "TravelTime vs Miles\n",
        "TravelTime vs Number of Deliveries\n",
        "\n",
        "Miles vs Number of Deliveries- Miles and Deliveries have multicollinearity and thus one of these can be eliminated. \n",
        "variance inflation factor VIF is 11.59 and low predicted R Squared\n",
        "therefore one of miles or deliveries independent variables has to be dropped. Also two variable model with \n",
        "miles and deliveries can be dropped. \n",
        "\n",
        "Gas Price has a low correlation with Time Travel and a high standard error and can be taken \n",
        "out from the list of independent variables. All models with gas price can be droppped.  \n",
        "\n",
        "Miles travelled has the highest Adjusted RSquared, RSquared predicted and a low srandard error. \n",
        "This is the best model and should be used. \n",
        "\n",
        "'''"
      ]
    }
  ],
  "metadata": {
    "colab": {
      "collapsed_sections": [],
      "name": "TravelTime.ipynb",
      "provenance": []
    },
    "kernelspec": {
      "display_name": "Python 3",
      "name": "python3"
    },
    "language_info": {
      "codemirror_mode": {
        "name": "ipython",
        "version": 3
      },
      "file_extension": ".py",
      "mimetype": "text/x-python",
      "name": "python",
      "nbconvert_exporter": "python",
      "pygments_lexer": "ipython3",
      "version": "3.10.4"
    }
  },
  "nbformat": 4,
  "nbformat_minor": 0
}
